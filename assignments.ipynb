{
 "cells": [
  {
   "cell_type": "code",
   "execution_count": 9,
   "metadata": {},
   "outputs": [],
   "source": [
    "import pandas as pd\n",
    "import numpy as np\n",
    "import re"
   ]
  },
  {
   "cell_type": "markdown",
   "metadata": {},
   "source": [
    "# 1. Getting Invoice_id"
   ]
  },
  {
   "cell_type": "code",
   "execution_count": 2,
   "metadata": {},
   "outputs": [
    {
     "data": {
      "text/html": [
       "<div>\n",
       "<table border=\"1\" class=\"dataframe\">\n",
       "  <thead>\n",
       "    <tr style=\"text-align: right;\">\n",
       "      <th></th>\n",
       "      <th>0</th>\n",
       "    </tr>\n",
       "  </thead>\n",
       "  <tbody>\n",
       "    <tr>\n",
       "      <th>0</th>\n",
       "      <td>12/11/2018-10:05 2.1.34 3579/ARIF Zae/01;2.1.343579/arifzae/01</td>\n",
       "    </tr>\n",
       "    <tr>\n",
       "      <th>1</th>\n",
       "      <td>10/11/2018-16:09 2.1.34 9372/LELITASA/01;2.1.349372/lelitasa/01</td>\n",
       "    </tr>\n",
       "    <tr>\n",
       "      <th>2</th>\n",
       "      <td>13/11/2018-19:24 2.1.34 490535/YESI/01;2.1.34490535/yesi/01</td>\n",
       "    </tr>\n",
       "    <tr>\n",
       "      <th>3</th>\n",
       "      <td>13/11/2018-17:44 2.1.34 721472/ANA/01;2.1.34721472/ana/01</td>\n",
       "    </tr>\n",
       "    <tr>\n",
       "      <th>4</th>\n",
       "      <td>14/11/2018-11:00 2.1.34 36372/OKTAVIAN/01;2.1.3436372/oktavian/01</td>\n",
       "    </tr>\n",
       "  </tbody>\n",
       "</table>\n",
       "</div>"
      ],
      "text/plain": [
       "                                                                   0\n",
       "0  12/11/2018-10:05 2.1.34 3579/ARIF Zae/01;2.1.343579/arifzae/01   \n",
       "1  10/11/2018-16:09 2.1.34 9372/LELITASA/01;2.1.349372/lelitasa/01  \n",
       "2  13/11/2018-19:24 2.1.34 490535/YESI/01;2.1.34490535/yesi/01      \n",
       "3  13/11/2018-17:44 2.1.34 721472/ANA/01;2.1.34721472/ana/01        \n",
       "4  14/11/2018-11:00 2.1.34 36372/OKTAVIAN/01;2.1.3436372/oktavian/01"
      ]
     },
     "execution_count": 2,
     "metadata": {},
     "output_type": "execute_result"
    }
   ],
   "source": [
    "pd.set_option('display.max_colwidth', -1)\n",
    "raw=pd.read_csv('trans_ids.txt',sep='\\n',header=None)\n",
    "raw[0]=raw[0].str.replace('\"','')\n",
    "raw.head()"
   ]
  },
  {
   "cell_type": "markdown",
   "metadata": {},
   "source": [
    "Checking if the data has more than one ';' on one line"
   ]
  },
  {
   "cell_type": "code",
   "execution_count": 3,
   "metadata": {},
   "outputs": [
    {
     "data": {
      "text/html": [
       "<div>\n",
       "<table border=\"1\" class=\"dataframe\">\n",
       "  <thead>\n",
       "    <tr style=\"text-align: right;\">\n",
       "      <th></th>\n",
       "      <th>0</th>\n",
       "      <th>jml</th>\n",
       "    </tr>\n",
       "  </thead>\n",
       "  <tbody>\n",
       "    <tr>\n",
       "      <th>972</th>\n",
       "      <td>07/12/2018-09:2; 2.1.34 3637/DIDI/01;2.1.343637/didi/01</td>\n",
       "      <td>2</td>\n",
       "    </tr>\n",
       "  </tbody>\n",
       "</table>\n",
       "</div>"
      ],
      "text/plain": [
       "                                                           0  jml\n",
       "972  07/12/2018-09:2; 2.1.34 3637/DIDI/01;2.1.343637/didi/01  2  "
      ]
     },
     "execution_count": 3,
     "metadata": {},
     "output_type": "execute_result"
    }
   ],
   "source": [
    "raw['jml']=raw[0].apply(lambda x: x.count(';'))\n",
    "raw[raw['jml']>1]"
   ]
  },
  {
   "cell_type": "markdown",
   "metadata": {},
   "source": [
    "Deleting the first semicolon if there are 2 of them on one line and store the result on new column"
   ]
  },
  {
   "cell_type": "code",
   "execution_count": 4,
   "metadata": {},
   "outputs": [],
   "source": [
    "raw['text']=raw[0].apply(lambda x: x.replace(';','',1) if x.count(';')>1 else x)"
   ]
  },
  {
   "cell_type": "code",
   "execution_count": 5,
   "metadata": {},
   "outputs": [
    {
     "data": {
      "text/html": [
       "<div>\n",
       "<table border=\"1\" class=\"dataframe\">\n",
       "  <thead>\n",
       "    <tr style=\"text-align: right;\">\n",
       "      <th></th>\n",
       "      <th>0</th>\n",
       "      <th>jml</th>\n",
       "      <th>text</th>\n",
       "    </tr>\n",
       "  </thead>\n",
       "  <tbody>\n",
       "    <tr>\n",
       "      <th>972</th>\n",
       "      <td>07/12/2018-09:2; 2.1.34 3637/DIDI/01;2.1.343637/didi/01</td>\n",
       "      <td>2</td>\n",
       "      <td>07/12/2018-09:2 2.1.34 3637/DIDI/01;2.1.343637/didi/01</td>\n",
       "    </tr>\n",
       "  </tbody>\n",
       "</table>\n",
       "</div>"
      ],
      "text/plain": [
       "                                                           0  jml  \\\n",
       "972  07/12/2018-09:2; 2.1.34 3637/DIDI/01;2.1.343637/didi/01  2     \n",
       "\n",
       "                                                       text  \n",
       "972  07/12/2018-09:2 2.1.34 3637/DIDI/01;2.1.343637/didi/01  "
      ]
     },
     "execution_count": 5,
     "metadata": {},
     "output_type": "execute_result"
    }
   ],
   "source": [
    "raw[raw['jml']>1]"
   ]
  },
  {
   "cell_type": "code",
   "execution_count": 6,
   "metadata": {},
   "outputs": [],
   "source": [
    "# dropping column '0' and start using column 'text'\n",
    "raw=raw.drop(0,axis=1)"
   ]
  },
  {
   "cell_type": "markdown",
   "metadata": {},
   "source": [
    "After making sure the data can be used, then next is separating the trans_id and the invoice_id based on semicolon"
   ]
  },
  {
   "cell_type": "code",
   "execution_count": 7,
   "metadata": {},
   "outputs": [
    {
     "data": {
      "text/html": [
       "<div>\n",
       "<table border=\"1\" class=\"dataframe\">\n",
       "  <thead>\n",
       "    <tr style=\"text-align: right;\">\n",
       "      <th></th>\n",
       "      <th>trans_id</th>\n",
       "      <th>inv_id</th>\n",
       "    </tr>\n",
       "  </thead>\n",
       "  <tbody>\n",
       "    <tr>\n",
       "      <th>0</th>\n",
       "      <td>12/11/2018-10:05 2.1.34 3579/ARIF Zae/01</td>\n",
       "      <td>2.1.343579/arifzae/01</td>\n",
       "    </tr>\n",
       "    <tr>\n",
       "      <th>1</th>\n",
       "      <td>10/11/2018-16:09 2.1.34 9372/LELITASA/01</td>\n",
       "      <td>2.1.349372/lelitasa/01</td>\n",
       "    </tr>\n",
       "    <tr>\n",
       "      <th>2</th>\n",
       "      <td>13/11/2018-19:24 2.1.34 490535/YESI/01</td>\n",
       "      <td>2.1.34490535/yesi/01</td>\n",
       "    </tr>\n",
       "    <tr>\n",
       "      <th>3</th>\n",
       "      <td>13/11/2018-17:44 2.1.34 721472/ANA/01</td>\n",
       "      <td>2.1.34721472/ana/01</td>\n",
       "    </tr>\n",
       "    <tr>\n",
       "      <th>4</th>\n",
       "      <td>14/11/2018-11:00 2.1.34 36372/OKTAVIAN/01</td>\n",
       "      <td>2.1.3436372/oktavian/01</td>\n",
       "    </tr>\n",
       "  </tbody>\n",
       "</table>\n",
       "</div>"
      ],
      "text/plain": [
       "                                    trans_id                   inv_id\n",
       "0  12/11/2018-10:05 2.1.34 3579/ARIF Zae/01   2.1.343579/arifzae/01  \n",
       "1  10/11/2018-16:09 2.1.34 9372/LELITASA/01   2.1.349372/lelitasa/01 \n",
       "2  13/11/2018-19:24 2.1.34 490535/YESI/01     2.1.34490535/yesi/01   \n",
       "3  13/11/2018-17:44 2.1.34 721472/ANA/01      2.1.34721472/ana/01    \n",
       "4  14/11/2018-11:00 2.1.34 36372/OKTAVIAN/01  2.1.3436372/oktavian/01"
      ]
     },
     "execution_count": 7,
     "metadata": {},
     "output_type": "execute_result"
    }
   ],
   "source": [
    "new = raw[\"text\"].str.split(\";\", n = 1, expand = True)\n",
    "raw['trans_id']=new[0]\n",
    "raw['inv_id']=new[1]\n",
    "raw=raw.drop(['text','jml'],axis=1)\n",
    "raw.head()"
   ]
  },
  {
   "cell_type": "code",
   "execution_count": 8,
   "metadata": {},
   "outputs": [
    {
     "data": {
      "text/html": [
       "<div>\n",
       "<table border=\"1\" class=\"dataframe\">\n",
       "  <thead>\n",
       "    <tr style=\"text-align: right;\">\n",
       "      <th></th>\n",
       "      <th>trans_id</th>\n",
       "      <th>inv_id</th>\n",
       "    </tr>\n",
       "  </thead>\n",
       "  <tbody>\n",
       "    <tr>\n",
       "      <th>0</th>\n",
       "      <td>12/11/2018-10:05 2.1.34 3579/arif zae/01</td>\n",
       "      <td>2.1.343579/arifzae/01</td>\n",
       "    </tr>\n",
       "    <tr>\n",
       "      <th>1</th>\n",
       "      <td>10/11/2018-16:09 2.1.34 9372/lelitasa/01</td>\n",
       "      <td>2.1.349372/lelitasa/01</td>\n",
       "    </tr>\n",
       "    <tr>\n",
       "      <th>2</th>\n",
       "      <td>13/11/2018-19:24 2.1.34 490535/yesi/01</td>\n",
       "      <td>2.1.34490535/yesi/01</td>\n",
       "    </tr>\n",
       "    <tr>\n",
       "      <th>3</th>\n",
       "      <td>13/11/2018-17:44 2.1.34 721472/ana/01</td>\n",
       "      <td>2.1.34721472/ana/01</td>\n",
       "    </tr>\n",
       "    <tr>\n",
       "      <th>4</th>\n",
       "      <td>14/11/2018-11:00 2.1.34 36372/oktavian/01</td>\n",
       "      <td>2.1.3436372/oktavian/01</td>\n",
       "    </tr>\n",
       "  </tbody>\n",
       "</table>\n",
       "</div>"
      ],
      "text/plain": [
       "                                    trans_id                   inv_id\n",
       "0  12/11/2018-10:05 2.1.34 3579/arif zae/01   2.1.343579/arifzae/01  \n",
       "1  10/11/2018-16:09 2.1.34 9372/lelitasa/01   2.1.349372/lelitasa/01 \n",
       "2  13/11/2018-19:24 2.1.34 490535/yesi/01     2.1.34490535/yesi/01   \n",
       "3  13/11/2018-17:44 2.1.34 721472/ana/01      2.1.34721472/ana/01    \n",
       "4  14/11/2018-11:00 2.1.34 36372/oktavian/01  2.1.3436372/oktavian/01"
      ]
     },
     "execution_count": 8,
     "metadata": {},
     "output_type": "execute_result"
    }
   ],
   "source": [
    "# Lower the trans_id because inv_id are all on lower cap\n",
    "raw['trans_id']=raw['trans_id'].str.lower()\n",
    "raw.head()"
   ]
  },
  {
   "cell_type": "markdown",
   "metadata": {},
   "source": [
    "### Method to get the invoice_id"
   ]
  },
  {
   "cell_type": "code",
   "execution_count": 10,
   "metadata": {},
   "outputs": [],
   "source": [
    "def invoice(df):\n",
    "    inv=''\n",
    "    for word in df.split():\n",
    "        if (any(c.isalpha() for c in word)==False) and (re.search('([:_/()*$]|-)',word)) and len(word)>3:\n",
    "            inv=inv+''\n",
    "        else:\n",
    "            inv=inv+word\n",
    "    return inv"
   ]
  },
  {
   "cell_type": "code",
   "execution_count": 11,
   "metadata": {},
   "outputs": [
    {
     "data": {
      "text/plain": [
       "trans_id      10939\n",
       "inv_id        10939\n",
       "inv_result    10939\n",
       "dtype: int64"
      ]
     },
     "execution_count": 11,
     "metadata": {},
     "output_type": "execute_result"
    }
   ],
   "source": [
    "raw['inv_result']=raw['trans_id'].apply(invoice)\n",
    "raw.count()"
   ]
  },
  {
   "cell_type": "markdown",
   "metadata": {},
   "source": [
    "Sneak peek of the result"
   ]
  },
  {
   "cell_type": "code",
   "execution_count": 12,
   "metadata": {},
   "outputs": [
    {
     "data": {
      "text/html": [
       "<div>\n",
       "<table border=\"1\" class=\"dataframe\">\n",
       "  <thead>\n",
       "    <tr style=\"text-align: right;\">\n",
       "      <th></th>\n",
       "      <th>trans_id</th>\n",
       "      <th>inv_id</th>\n",
       "      <th>inv_result</th>\n",
       "    </tr>\n",
       "  </thead>\n",
       "  <tbody>\n",
       "    <tr>\n",
       "      <th>0</th>\n",
       "      <td>12/11/2018-10:05 2.1.34 3579/arif zae/01</td>\n",
       "      <td>2.1.343579/arifzae/01</td>\n",
       "      <td>2.1.343579/arifzae/01</td>\n",
       "    </tr>\n",
       "    <tr>\n",
       "      <th>1</th>\n",
       "      <td>10/11/2018-16:09 2.1.34 9372/lelitasa/01</td>\n",
       "      <td>2.1.349372/lelitasa/01</td>\n",
       "      <td>2.1.349372/lelitasa/01</td>\n",
       "    </tr>\n",
       "    <tr>\n",
       "      <th>2</th>\n",
       "      <td>13/11/2018-19:24 2.1.34 490535/yesi/01</td>\n",
       "      <td>2.1.34490535/yesi/01</td>\n",
       "      <td>2.1.34490535/yesi/01</td>\n",
       "    </tr>\n",
       "    <tr>\n",
       "      <th>3</th>\n",
       "      <td>13/11/2018-17:44 2.1.34 721472/ana/01</td>\n",
       "      <td>2.1.34721472/ana/01</td>\n",
       "      <td>2.1.34721472/ana/01</td>\n",
       "    </tr>\n",
       "    <tr>\n",
       "      <th>4</th>\n",
       "      <td>14/11/2018-11:00 2.1.34 36372/oktavian/01</td>\n",
       "      <td>2.1.3436372/oktavian/01</td>\n",
       "      <td>2.1.3436372/oktavian/01</td>\n",
       "    </tr>\n",
       "  </tbody>\n",
       "</table>\n",
       "</div>"
      ],
      "text/plain": [
       "                                    trans_id                   inv_id  \\\n",
       "0  12/11/2018-10:05 2.1.34 3579/arif zae/01   2.1.343579/arifzae/01     \n",
       "1  10/11/2018-16:09 2.1.34 9372/lelitasa/01   2.1.349372/lelitasa/01    \n",
       "2  13/11/2018-19:24 2.1.34 490535/yesi/01     2.1.34490535/yesi/01      \n",
       "3  13/11/2018-17:44 2.1.34 721472/ana/01      2.1.34721472/ana/01       \n",
       "4  14/11/2018-11:00 2.1.34 36372/oktavian/01  2.1.3436372/oktavian/01   \n",
       "\n",
       "                inv_result  \n",
       "0  2.1.343579/arifzae/01    \n",
       "1  2.1.349372/lelitasa/01   \n",
       "2  2.1.34490535/yesi/01     \n",
       "3  2.1.34721472/ana/01      \n",
       "4  2.1.3436372/oktavian/01  "
      ]
     },
     "execution_count": 12,
     "metadata": {},
     "output_type": "execute_result"
    }
   ],
   "source": [
    "raw.head()"
   ]
  },
  {
   "cell_type": "code",
   "execution_count": 17,
   "metadata": {},
   "outputs": [
    {
     "data": {
      "text/plain": [
       "True     10524\n",
       "False    415  \n",
       "Name: truth, dtype: int64"
      ]
     },
     "execution_count": 17,
     "metadata": {},
     "output_type": "execute_result"
    }
   ],
   "source": [
    "raw['truth']=raw['inv_id']==raw['inv_result']\n",
    "raw['truth'].value_counts()"
   ]
  },
  {
   "cell_type": "code",
   "execution_count": 22,
   "metadata": {},
   "outputs": [
    {
     "data": {
      "text/html": [
       "<div>\n",
       "<table border=\"1\" class=\"dataframe\">\n",
       "  <thead>\n",
       "    <tr style=\"text-align: right;\">\n",
       "      <th></th>\n",
       "      <th>trans_id</th>\n",
       "      <th>inv_id</th>\n",
       "      <th>inv_result</th>\n",
       "      <th>truth</th>\n",
       "    </tr>\n",
       "  </thead>\n",
       "  <tbody>\n",
       "    <tr>\n",
       "      <th>84</th>\n",
       "      <td>00030010091 05082018 14:53:49 0006 60199534 30/870</td>\n",
       "      <td>000300100910006</td>\n",
       "      <td>0003001009105082018000660199534</td>\n",
       "      <td>False</td>\n",
       "    </tr>\n",
       "    <tr>\n",
       "      <th>97</th>\n",
       "      <td>25/08/2018-21:13 2.1.30 936172/cici ap/01 ,40291</td>\n",
       "      <td>2.1.30936172/ciciap/01</td>\n",
       "      <td>2.1.30936172/ciciap/01,40291</td>\n",
       "      <td>False</td>\n",
       "    </tr>\n",
       "    <tr>\n",
       "      <th>98</th>\n",
       "      <td>25/08/2018-20:17 2.1.30 2.1.30 36119/nurul/02</td>\n",
       "      <td>2.1.3036119/nurul/02</td>\n",
       "      <td>2.1.302.1.3036119/nurul/02</td>\n",
       "      <td>False</td>\n",
       "    </tr>\n",
       "    <tr>\n",
       "      <th>147</th>\n",
       "      <td>02-09-2018 20:13 000806</td>\n",
       "      <td>2.1.301436330/siti/03</td>\n",
       "      <td>000806</td>\n",
       "      <td>False</td>\n",
       "    </tr>\n",
       "    <tr>\n",
       "      <th>189</th>\n",
       "      <td>06-10-2018 16:47:37 m361-703-06109tv4 matu</td>\n",
       "      <td>m361-703-06109tv4</td>\n",
       "      <td>m361-703-06109tv4matu</td>\n",
       "      <td>False</td>\n",
       "    </tr>\n",
       "    <tr>\n",
       "      <th>192</th>\n",
       "      <td>06/10/2018-18:13 2.1.30 1539/linawati/01 d1 16</td>\n",
       "      <td>2.1.301539/linawati/01</td>\n",
       "      <td>2.1.301539/linawati/01d116</td>\n",
       "      <td>False</td>\n",
       "    </tr>\n",
       "    <tr>\n",
       "      <th>217</th>\n",
       "      <td>08/10/2018-19:33 02/1.30 9147201/yogi a/01</td>\n",
       "      <td>02/1.309147201/yogia/01</td>\n",
       "      <td>9147201/yogia/01</td>\n",
       "      <td>False</td>\n",
       "    </tr>\n",
       "    <tr>\n",
       "      <th>243</th>\n",
       "      <td>14/10/2018-12:43 2.1.31 9151149/mega/01 rt 031</td>\n",
       "      <td>2.1.319151149/mega/01031</td>\n",
       "      <td>2.1.319151149/mega/01rt031</td>\n",
       "      <td>False</td>\n",
       "    </tr>\n",
       "    <tr>\n",
       "      <th>244</th>\n",
       "      <td>13-10-2018 20:09:52 1p05-159-13105m76 1p05-159-131</td>\n",
       "      <td>1p05-159-1311p05-159-13105m76</td>\n",
       "      <td>1p05-159-13105m761p05-159-131</td>\n",
       "      <td>False</td>\n",
       "    </tr>\n",
       "    <tr>\n",
       "      <th>310</th>\n",
       "      <td>03/09/2018-20:59 2.1.30 14307201/ulla/01</td>\n",
       "      <td>103/09/2020-20:592.1.3014307201/ulla/01</td>\n",
       "      <td>2.1.3014307201/ulla/01</td>\n",
       "      <td>False</td>\n",
       "    </tr>\n",
       "  </tbody>\n",
       "</table>\n",
       "</div>"
      ],
      "text/plain": [
       "                                               trans_id  \\\n",
       "84   00030010091 05082018 14:53:49 0006 60199534 30/870   \n",
       "97   25/08/2018-21:13 2.1.30 936172/cici ap/01 ,40291     \n",
       "98   25/08/2018-20:17 2.1.30 2.1.30 36119/nurul/02        \n",
       "147  02-09-2018 20:13 000806                              \n",
       "189  06-10-2018 16:47:37 m361-703-06109tv4 matu           \n",
       "192  06/10/2018-18:13 2.1.30 1539/linawati/01 d1 16       \n",
       "217  08/10/2018-19:33 02/1.30 9147201/yogi a/01           \n",
       "243  14/10/2018-12:43 2.1.31 9151149/mega/01 rt 031       \n",
       "244  13-10-2018 20:09:52 1p05-159-13105m76 1p05-159-131   \n",
       "310  03/09/2018-20:59 2.1.30 14307201/ulla/01             \n",
       "\n",
       "                                      inv_id                       inv_result  \\\n",
       "84   000300100910006                          0003001009105082018000660199534   \n",
       "97   2.1.30936172/ciciap/01                   2.1.30936172/ciciap/01,40291      \n",
       "98   2.1.3036119/nurul/02                     2.1.302.1.3036119/nurul/02        \n",
       "147  2.1.301436330/siti/03                    000806                            \n",
       "189  m361-703-06109tv4                        m361-703-06109tv4matu             \n",
       "192  2.1.301539/linawati/01                   2.1.301539/linawati/01d116        \n",
       "217  02/1.309147201/yogia/01                  9147201/yogia/01                  \n",
       "243  2.1.319151149/mega/01031                 2.1.319151149/mega/01rt031        \n",
       "244  1p05-159-1311p05-159-13105m76            1p05-159-13105m761p05-159-131     \n",
       "310  103/09/2020-20:592.1.3014307201/ulla/01  2.1.3014307201/ulla/01            \n",
       "\n",
       "     truth  \n",
       "84   False  \n",
       "97   False  \n",
       "98   False  \n",
       "147  False  \n",
       "189  False  \n",
       "192  False  \n",
       "217  False  \n",
       "243  False  \n",
       "244  False  \n",
       "310  False  "
      ]
     },
     "execution_count": 22,
     "metadata": {},
     "output_type": "execute_result"
    }
   ],
   "source": [
    "raw[raw.truth==False][:10]"
   ]
  },
  {
   "cell_type": "markdown",
   "metadata": {},
   "source": [
    "Some data looks like the trans_id and inv_id doesn't match, maybe the data itself isn't complete or corrupt"
   ]
  },
  {
   "cell_type": "code",
   "execution_count": 19,
   "metadata": {},
   "outputs": [
    {
     "data": {
      "text/plain": [
       "0.962062345735442"
      ]
     },
     "execution_count": 19,
     "metadata": {},
     "output_type": "execute_result"
    }
   ],
   "source": [
    "(10524/(415+10524))"
   ]
  },
  {
   "cell_type": "markdown",
   "metadata": {},
   "source": [
    "### Akurasi 96.2%"
   ]
  },
  {
   "cell_type": "code",
   "execution_count": 27,
   "metadata": {},
   "outputs": [],
   "source": [
    "raw.to_csv('the result.csv',index=None)"
   ]
  },
  {
   "cell_type": "markdown",
   "metadata": {},
   "source": [
    "# 2. Optimization Problem"
   ]
  },
  {
   "cell_type": "code",
   "execution_count": 24,
   "metadata": {},
   "outputs": [],
   "source": [
    "# method to optimize cost\n",
    "def optimizer(size,maxDiff,array1):\n",
    "    arr=np.array(array1)\n",
    "    \n",
    "    mins=np.min(arr)\n",
    "    diff=np.max(arr)-mins\n",
    "    \n",
    "    if diff<=maxDiff:\n",
    "        return 0\n",
    "    else:\n",
    "        target=diff-maxDiff\n",
    "        min_value=mins+int(target/2)\n",
    "        max_value=min_value+maxDiff\n",
    "        \n",
    "        if target%2==1 & (abs(np.sum([(min_value+1)-x for x in arr[arr<min_value+1]]))< abs(np.sum([x-max_value for x in arr[arr>max_value]]))):\n",
    "            min_value=min_value+1\n",
    "            max_value=max_value+1\n",
    "        new_arr=arr.copy()\n",
    "        new_arr[new_arr>max_value]=max_value\n",
    "        new_arr[new_arr<min_value]=min_value\n",
    "        return ((new_arr-arr)*(new_arr-arr)).sum()"
   ]
  },
  {
   "cell_type": "markdown",
   "metadata": {},
   "source": [
    "Usage example"
   ]
  },
  {
   "cell_type": "code",
   "execution_count": 25,
   "metadata": {},
   "outputs": [],
   "source": [
    "size=6\n",
    "maxDiff=12\n",
    "array=[13,4,27,7,19,33]"
   ]
  },
  {
   "cell_type": "code",
   "execution_count": 26,
   "metadata": {},
   "outputs": [
    {
     "name": "stdout",
     "output_type": "stream",
     "text": [
      "minimum cost is 179\n"
     ]
    }
   ],
   "source": [
    "print('minimum cost is',optimizer(size,maxDiff,array))"
   ]
  }
 ],
 "metadata": {
  "kernelspec": {
   "display_name": "Python 3",
   "language": "python",
   "name": "python3"
  },
  "language_info": {
   "codemirror_mode": {
    "name": "ipython",
    "version": 3
   },
   "file_extension": ".py",
   "mimetype": "text/x-python",
   "name": "python",
   "nbconvert_exporter": "python",
   "pygments_lexer": "ipython3",
   "version": "3.6.5"
  }
 },
 "nbformat": 4,
 "nbformat_minor": 2
}
